{
 "cells": [
  {
   "cell_type": "markdown",
   "id": "9e26e327",
   "metadata": {
    "papermill": {
     "duration": 0.002195,
     "end_time": "2023-09-18T07:10:45.523245",
     "exception": false,
     "start_time": "2023-09-18T07:10:45.521050",
     "status": "completed"
    },
    "tags": []
   },
   "source": [
    "This notebook installs `textstat` [fork](https://github.com/andrei-papou/textstat) created by [Andrei Papou](https://www.kaggle.com/andreippv). The fork has no `pyphen` dependency and therefore all the installed files are under the MIT license, that satisfies the requirements of \"CommonLit - Evaluate Student Summaries\" competition. For more details, please refer to [this post](https://www.kaggle.com/competitions/commonlit-evaluate-student-summaries/discussion/438274).\n",
    "\n",
    "You can add this notebook as a data source to your main notebook, then the following code is enough to import `textstat`:\n",
    "\n",
    "```\n",
    "import sys\n",
    "sys.path.append(\"/kaggle/input/pip-install-textstat-mit/package\")\n",
    "import textstat\n",
    "```\n",
    "\n",
    "In this case one won't need to re-install the package all the time, and also it will be available for no-internet competition submissions.\n"
   ]
  },
  {
   "cell_type": "code",
   "execution_count": 1,
   "id": "2dba0eb3",
   "metadata": {
    "execution": {
     "iopub.execute_input": "2023-09-18T07:10:45.528262Z",
     "iopub.status.busy": "2023-09-18T07:10:45.527893Z",
     "iopub.status.idle": "2023-09-18T07:10:59.106977Z",
     "shell.execute_reply": "2023-09-18T07:10:59.105759Z"
    },
    "papermill": {
     "duration": 13.584511,
     "end_time": "2023-09-18T07:10:59.109525",
     "exception": false,
     "start_time": "2023-09-18T07:10:45.525014",
     "status": "completed"
    },
    "tags": []
   },
   "outputs": [
    {
     "name": "stdout",
     "output_type": "stream",
     "text": [
      "Cloning into 'textstat'...\r\n",
      "remote: Enumerating objects: 1393, done.\u001b[K\r\n",
      "remote: Counting objects: 100% (323/323), done.\u001b[K\r\n",
      "remote: Compressing objects: 100% (56/56), done.\u001b[K\r\n",
      "remote: Total 1393 (delta 282), reused 278 (delta 265), pack-reused 1070\u001b[K\r\n",
      "Receiving objects: 100% (1393/1393), 432.65 KiB | 7.46 MiB/s, done.\r\n",
      "Resolving deltas: 100% (870/870), done.\r\n",
      "Processing /kaggle/working/textstat\r\n",
      "  Preparing metadata (setup.py) ... \u001b[?25l-\b \bdone\r\n",
      "\u001b[?25hBuilding wheels for collected packages: textstat\r\n",
      "  Building wheel for textstat (setup.py) ... \u001b[?25l-\b \b\\\b \bdone\r\n",
      "\u001b[?25h  Created wheel for textstat: filename=textstat-0.7.3-py3-none-any.whl size=105373 sha256=ff3123b8493cd95d8cd9d84af0099227fda91c01ff82ad823b17dbb9f4afa8dc\r\n",
      "  Stored in directory: /tmp/pip-ephem-wheel-cache-9e0476r9/wheels/75/74/9e/037bf9e59681e02d0a41c8eca3dfd5586f2bdf879f6edbfed3\r\n",
      "Successfully built textstat\r\n",
      "Installing collected packages: textstat\r\n",
      "Successfully installed textstat-0.7.3\r\n"
     ]
    }
   ],
   "source": [
    "# Install `textstat` fork\n",
    "!git clone https://github.com/andrei-papou/textstat.git\n",
    "!cd textstat; pip install . --target=/kaggle/working/package"
   ]
  },
  {
   "cell_type": "code",
   "execution_count": 2,
   "id": "0895637d",
   "metadata": {
    "execution": {
     "iopub.execute_input": "2023-09-18T07:10:59.116682Z",
     "iopub.status.busy": "2023-09-18T07:10:59.116248Z",
     "iopub.status.idle": "2023-09-18T07:10:59.135304Z",
     "shell.execute_reply": "2023-09-18T07:10:59.133422Z"
    },
    "papermill": {
     "duration": 0.026162,
     "end_time": "2023-09-18T07:10:59.138479",
     "exception": false,
     "start_time": "2023-09-18T07:10:59.112317",
     "status": "completed"
    },
    "tags": []
   },
   "outputs": [
    {
     "name": "stdout",
     "output_type": "stream",
     "text": [
      "flesch_reading_ease: 36.63\n",
      "flesch_kincaid_grade: 14.6\n",
      "smog_index: 15.5\n",
      "coleman_liau_index: 12.19\n",
      "automated_readability_index: 15.9\n",
      "dale_chall_readability_score: 10.19\n",
      "difficult_words: 19\n",
      "linsear_write_formula: 17.833333333333332\n",
      "gunning_fog: 16.55\n",
      "text_standard: 15th and 16th grade\n",
      "fernandez_huerta: 78.32\n",
      "szigriszt_pazos: 76.2\n",
      "gutierrez_polini: 37.35\n",
      "crawford: 4.0\n",
      "gulpease_index: 48.9\n",
      "osman: 42.34\n"
     ]
    }
   ],
   "source": [
    "# Test installation\n",
    "import sys\n",
    "sys.path.append(\"/kaggle/working/package\")\n",
    "\n",
    "import textstat\n",
    "text = (\n",
    "    \"CommonLit - Evaluate Student Summaries\"\n",
    "    \"Automatically assess summaries written by students in grades 3-12\"\n",
    "    \"The goal of this competition is to assess the quality of \"\n",
    "    \"summaries written by students in grades 3-12. You'll build \"\n",
    "    \"a model that evaluates how well a student represents the main \"\n",
    "    \"idea and details of a source text, as well as the clarity, \"\n",
    "    \"precision, and fluency of the language used in the summary. \"\n",
    "    \"You'll have access to a collection of real student summaries to \"\n",
    "    \"train your model.\"\n",
    ")\n",
    "\n",
    "methods = [\"flesch_reading_ease\", \n",
    "           \"flesch_kincaid_grade\",\n",
    "           \"smog_index\", \n",
    "           \"coleman_liau_index\", \n",
    "           \"automated_readability_index\",\n",
    "           \"dale_chall_readability_score\", \n",
    "           \"difficult_words\",\n",
    "           \"linsear_write_formula\",\n",
    "           \"gunning_fog\",\n",
    "           \"text_standard\",\n",
    "           \"fernandez_huerta\",\n",
    "           \"szigriszt_pazos\",\n",
    "           \"gutierrez_polini\", \n",
    "           \"crawford\",\n",
    "           \"gulpease_index\", \n",
    "           \"osman\"]\n",
    "\n",
    "for method in methods:\n",
    "    res = getattr(textstat, method)(text)\n",
    "    print(f\"{method}: {res}\")"
   ]
  }
 ],
 "metadata": {
  "kernelspec": {
   "display_name": "Python 3",
   "language": "python",
   "name": "python3"
  },
  "language_info": {
   "codemirror_mode": {
    "name": "ipython",
    "version": 3
   },
   "file_extension": ".py",
   "mimetype": "text/x-python",
   "name": "python",
   "nbconvert_exporter": "python",
   "pygments_lexer": "ipython3",
   "version": "3.10.12"
  },
  "papermill": {
   "default_parameters": {},
   "duration": 16.858349,
   "end_time": "2023-09-18T07:10:59.462380",
   "environment_variables": {},
   "exception": null,
   "input_path": "__notebook__.ipynb",
   "output_path": "__notebook__.ipynb",
   "parameters": {},
   "start_time": "2023-09-18T07:10:42.604031",
   "version": "2.4.0"
  }
 },
 "nbformat": 4,
 "nbformat_minor": 5
}
