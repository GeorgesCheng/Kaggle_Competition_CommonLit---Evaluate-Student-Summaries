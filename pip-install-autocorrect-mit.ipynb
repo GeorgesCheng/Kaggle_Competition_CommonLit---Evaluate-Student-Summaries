{
 "cells": [
  {
   "cell_type": "code",
   "execution_count": 1,
   "id": "d0fb8c37",
   "metadata": {
    "_cell_guid": "b1076dfc-b9ad-4769-8c92-a6c4dae69d19",
    "_uuid": "8f2839f25d086af736a60e9eeb907d3b93b6e0e5",
    "execution": {
     "iopub.execute_input": "2023-09-18T08:21:21.332656Z",
     "iopub.status.busy": "2023-09-18T08:21:21.332073Z",
     "iopub.status.idle": "2023-09-18T08:21:37.789515Z",
     "shell.execute_reply": "2023-09-18T08:21:37.788245Z"
    },
    "papermill": {
     "duration": 16.464456,
     "end_time": "2023-09-18T08:21:37.792359",
     "exception": false,
     "start_time": "2023-09-18T08:21:21.327903",
     "status": "completed"
    },
    "tags": []
   },
   "outputs": [
    {
     "name": "stdout",
     "output_type": "stream",
     "text": [
      "Collecting autocorrect==1.1.0\r\n",
      "  Downloading autocorrect-1.1.0.tar.gz (1.8 MB)\r\n",
      "\u001b[2K     \u001b[90m━━━━━━━━━━━━━━━━━━━━━━━━━━━━━━━━━━━━━━━━\u001b[0m \u001b[32m1.8/1.8 MB\u001b[0m \u001b[31m18.4 MB/s\u001b[0m eta \u001b[36m0:00:00\u001b[0m\r\n",
      "\u001b[?25h  Preparing metadata (setup.py) ... \u001b[?25ldone\r\n",
      "\u001b[?25hBuilding wheels for collected packages: autocorrect\r\n",
      "  Building wheel for autocorrect (setup.py) ... \u001b[?25l-\b \bdone\r\n",
      "\u001b[?25h  Created wheel for autocorrect: filename=autocorrect-1.1.0-py3-none-any.whl size=1810750 sha256=657864c5c8cd8abefd0899229910426f0cd1495225ff5c77e7e037f92911275c\r\n",
      "  Stored in directory: /root/.cache/pip/wheels/33/be/f2/f4fdf5922c7635a8615179f817e876a19259d36a2b944df585\r\n",
      "Successfully built autocorrect\r\n",
      "Installing collected packages: autocorrect\r\n",
      "Successfully installed autocorrect-1.1.0\r\n"
     ]
    }
   ],
   "source": [
    "!pip install autocorrect==1.1.0 --target=/kaggle/working/package"
   ]
  },
  {
   "cell_type": "code",
   "execution_count": 2,
   "id": "6ed800cd",
   "metadata": {
    "execution": {
     "iopub.execute_input": "2023-09-18T08:21:37.799928Z",
     "iopub.status.busy": "2023-09-18T08:21:37.799489Z",
     "iopub.status.idle": "2023-09-18T08:21:37.811577Z",
     "shell.execute_reply": "2023-09-18T08:21:37.810001Z"
    },
    "papermill": {
     "duration": 0.019473,
     "end_time": "2023-09-18T08:21:37.814600",
     "exception": false,
     "start_time": "2023-09-18T08:21:37.795127",
     "status": "completed"
    },
    "tags": []
   },
   "outputs": [],
   "source": [
    "import sys\n",
    "sys.path.append(\"/kaggle/working/package\")\n",
    "\n",
    "import autocorrect"
   ]
  },
  {
   "cell_type": "code",
   "execution_count": null,
   "id": "7664f9b7",
   "metadata": {
    "papermill": {
     "duration": 0.002175,
     "end_time": "2023-09-18T08:21:37.819402",
     "exception": false,
     "start_time": "2023-09-18T08:21:37.817227",
     "status": "completed"
    },
    "tags": []
   },
   "outputs": [],
   "source": []
  }
 ],
 "metadata": {
  "kernelspec": {
   "display_name": "Python 3",
   "language": "python",
   "name": "python3"
  },
  "language_info": {
   "codemirror_mode": {
    "name": "ipython",
    "version": 3
   },
   "file_extension": ".py",
   "mimetype": "text/x-python",
   "name": "python",
   "nbconvert_exporter": "python",
   "pygments_lexer": "ipython3",
   "version": "3.10.12"
  },
  "papermill": {
   "default_parameters": {},
   "duration": 21.632457,
   "end_time": "2023-09-18T08:21:38.242783",
   "environment_variables": {},
   "exception": null,
   "input_path": "__notebook__.ipynb",
   "output_path": "__notebook__.ipynb",
   "parameters": {},
   "start_time": "2023-09-18T08:21:16.610326",
   "version": "2.4.0"
  }
 },
 "nbformat": 4,
 "nbformat_minor": 5
}
